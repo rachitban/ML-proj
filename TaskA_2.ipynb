{
  "nbformat": 4,
  "nbformat_minor": 0,
  "metadata": {
    "colab": {
      "name": "TaskA_2.ipynb",
      "provenance": []
    },
    "kernelspec": {
      "name": "python3",
      "display_name": "Python 3"
    },
    "accelerator": "GPU"
  },
  "cells": [
    {
      "cell_type": "code",
      "metadata": {
        "id": "hQLpiv6Y-bHs"
      },
      "source": [
        "import numpy as np\n",
        "import pandas as pd\n",
        "import matplotlib.pyplot as plt"
      ],
      "execution_count": null,
      "outputs": []
    },
    {
      "cell_type": "code",
      "metadata": {
        "id": "MQnh7mVJ-IZB",
        "colab": {
          "base_uri": "https://localhost:8080/",
          "height": 572
        },
        "outputId": "28ab80a1-2e30-491c-ae07-d3432bba78fc"
      },
      "source": [
        "import torch\n",
        "import torch.nn as nn\n",
        "!pip install transformers\n",
        "from transformers import BertTokenizer,BertModel\n",
        "import torch.nn.functional as F\n",
        "import torch.optim as optim"
      ],
      "execution_count": null,
      "outputs": [
        {
          "output_type": "stream",
          "text": [
            "Collecting transformers\n",
            "\u001b[?25l  Downloading https://files.pythonhosted.org/packages/12/b5/ac41e3e95205ebf53439e4dd087c58e9fd371fd8e3724f2b9b4cdb8282e5/transformers-2.10.0-py3-none-any.whl (660kB)\n",
            "\r\u001b[K     |▌                               | 10kB 12.1MB/s eta 0:00:01\r\u001b[K     |█                               | 20kB 2.2MB/s eta 0:00:01\r\u001b[K     |█▌                              | 30kB 2.9MB/s eta 0:00:01\r\u001b[K     |██                              | 40kB 3.1MB/s eta 0:00:01\r\u001b[K     |██▌                             | 51kB 2.5MB/s eta 0:00:01\r\u001b[K     |███                             | 61kB 2.8MB/s eta 0:00:01\r\u001b[K     |███▌                            | 71kB 3.1MB/s eta 0:00:01\r\u001b[K     |████                            | 81kB 3.3MB/s eta 0:00:01\r\u001b[K     |████▌                           | 92kB 3.6MB/s eta 0:00:01\r\u001b[K     |█████                           | 102kB 3.5MB/s eta 0:00:01\r\u001b[K     |█████▌                          | 112kB 3.5MB/s eta 0:00:01\r\u001b[K     |██████                          | 122kB 3.5MB/s eta 0:00:01\r\u001b[K     |██████▌                         | 133kB 3.5MB/s eta 0:00:01\r\u001b[K     |███████                         | 143kB 3.5MB/s eta 0:00:01\r\u001b[K     |███████▌                        | 153kB 3.5MB/s eta 0:00:01\r\u001b[K     |████████                        | 163kB 3.5MB/s eta 0:00:01\r\u001b[K     |████████▍                       | 174kB 3.5MB/s eta 0:00:01\r\u001b[K     |█████████                       | 184kB 3.5MB/s eta 0:00:01\r\u001b[K     |█████████▍                      | 194kB 3.5MB/s eta 0:00:01\r\u001b[K     |██████████                      | 204kB 3.5MB/s eta 0:00:01\r\u001b[K     |██████████▍                     | 215kB 3.5MB/s eta 0:00:01\r\u001b[K     |███████████                     | 225kB 3.5MB/s eta 0:00:01\r\u001b[K     |███████████▍                    | 235kB 3.5MB/s eta 0:00:01\r\u001b[K     |████████████                    | 245kB 3.5MB/s eta 0:00:01\r\u001b[K     |████████████▍                   | 256kB 3.5MB/s eta 0:00:01\r\u001b[K     |█████████████                   | 266kB 3.5MB/s eta 0:00:01\r\u001b[K     |█████████████▍                  | 276kB 3.5MB/s eta 0:00:01\r\u001b[K     |██████████████                  | 286kB 3.5MB/s eta 0:00:01\r\u001b[K     |██████████████▍                 | 296kB 3.5MB/s eta 0:00:01\r\u001b[K     |███████████████                 | 307kB 3.5MB/s eta 0:00:01\r\u001b[K     |███████████████▍                | 317kB 3.5MB/s eta 0:00:01\r\u001b[K     |███████████████▉                | 327kB 3.5MB/s eta 0:00:01\r\u001b[K     |████████████████▍               | 337kB 3.5MB/s eta 0:00:01\r\u001b[K     |████████████████▉               | 348kB 3.5MB/s eta 0:00:01\r\u001b[K     |█████████████████▍              | 358kB 3.5MB/s eta 0:00:01\r\u001b[K     |█████████████████▉              | 368kB 3.5MB/s eta 0:00:01\r\u001b[K     |██████████████████▍             | 378kB 3.5MB/s eta 0:00:01\r\u001b[K     |██████████████████▉             | 389kB 3.5MB/s eta 0:00:01\r\u001b[K     |███████████████████▍            | 399kB 3.5MB/s eta 0:00:01\r\u001b[K     |███████████████████▉            | 409kB 3.5MB/s eta 0:00:01\r\u001b[K     |████████████████████▍           | 419kB 3.5MB/s eta 0:00:01\r\u001b[K     |████████████████████▉           | 430kB 3.5MB/s eta 0:00:01\r\u001b[K     |█████████████████████▍          | 440kB 3.5MB/s eta 0:00:01\r\u001b[K     |█████████████████████▉          | 450kB 3.5MB/s eta 0:00:01\r\u001b[K     |██████████████████████▍         | 460kB 3.5MB/s eta 0:00:01\r\u001b[K     |██████████████████████▉         | 471kB 3.5MB/s eta 0:00:01\r\u001b[K     |███████████████████████▎        | 481kB 3.5MB/s eta 0:00:01\r\u001b[K     |███████████████████████▉        | 491kB 3.5MB/s eta 0:00:01\r\u001b[K     |████████████████████████▎       | 501kB 3.5MB/s eta 0:00:01\r\u001b[K     |████████████████████████▉       | 512kB 3.5MB/s eta 0:00:01\r\u001b[K     |█████████████████████████▎      | 522kB 3.5MB/s eta 0:00:01\r\u001b[K     |█████████████████████████▉      | 532kB 3.5MB/s eta 0:00:01\r\u001b[K     |██████████████████████████▎     | 542kB 3.5MB/s eta 0:00:01\r\u001b[K     |██████████████████████████▉     | 552kB 3.5MB/s eta 0:00:01\r\u001b[K     |███████████████████████████▎    | 563kB 3.5MB/s eta 0:00:01\r\u001b[K     |███████████████████████████▉    | 573kB 3.5MB/s eta 0:00:01\r\u001b[K     |████████████████████████████▎   | 583kB 3.5MB/s eta 0:00:01\r\u001b[K     |████████████████████████████▉   | 593kB 3.5MB/s eta 0:00:01\r\u001b[K     |█████████████████████████████▎  | 604kB 3.5MB/s eta 0:00:01\r\u001b[K     |█████████████████████████████▉  | 614kB 3.5MB/s eta 0:00:01\r\u001b[K     |██████████████████████████████▎ | 624kB 3.5MB/s eta 0:00:01\r\u001b[K     |██████████████████████████████▊ | 634kB 3.5MB/s eta 0:00:01\r\u001b[K     |███████████████████████████████▎| 645kB 3.5MB/s eta 0:00:01\r\u001b[K     |███████████████████████████████▊| 655kB 3.5MB/s eta 0:00:01\r\u001b[K     |████████████████████████████████| 665kB 3.5MB/s \n",
            "\u001b[?25hRequirement already satisfied: filelock in /usr/local/lib/python3.6/dist-packages (from transformers) (3.0.12)\n",
            "Requirement already satisfied: tqdm>=4.27 in /usr/local/lib/python3.6/dist-packages (from transformers) (4.41.1)\n",
            "Collecting sentencepiece\n",
            "\u001b[?25l  Downloading https://files.pythonhosted.org/packages/d4/a4/d0a884c4300004a78cca907a6ff9a5e9fe4f090f5d95ab341c53d28cbc58/sentencepiece-0.1.91-cp36-cp36m-manylinux1_x86_64.whl (1.1MB)\n",
            "\r\u001b[K     |▎                               | 10kB 18.5MB/s eta 0:00:01\r\u001b[K     |▋                               | 20kB 24.9MB/s eta 0:00:01\r\u001b[K     |█                               | 30kB 30.0MB/s eta 0:00:01\r\u001b[K     |█▏                              | 40kB 16.4MB/s eta 0:00:01\r\u001b[K     |█▌                              | 51kB 12.1MB/s eta 0:00:01\r\u001b[K     |█▉                              | 61kB 13.8MB/s eta 0:00:01\r\u001b[K     |██▏                             | 71kB 11.6MB/s eta 0:00:01\r\u001b[K     |██▍                             | 81kB 12.7MB/s eta 0:00:01\r\u001b[K     |██▊                             | 92kB 11.6MB/s eta 0:00:01\r\u001b[K     |███                             | 102kB 11.2MB/s eta 0:00:01\r\u001b[K     |███▍                            | 112kB 11.2MB/s eta 0:00:01\r\u001b[K     |███▋                            | 122kB 11.2MB/s eta 0:00:01\r\u001b[K     |████                            | 133kB 11.2MB/s eta 0:00:01\r\u001b[K     |████▎                           | 143kB 11.2MB/s eta 0:00:01\r\u001b[K     |████▋                           | 153kB 11.2MB/s eta 0:00:01\r\u001b[K     |████▉                           | 163kB 11.2MB/s eta 0:00:01\r\u001b[K     |█████▏                          | 174kB 11.2MB/s eta 0:00:01\r\u001b[K     |█████▌                          | 184kB 11.2MB/s eta 0:00:01\r\u001b[K     |█████▉                          | 194kB 11.2MB/s eta 0:00:01\r\u001b[K     |██████                          | 204kB 11.2MB/s eta 0:00:01\r\u001b[K     |██████▍                         | 215kB 11.2MB/s eta 0:00:01\r\u001b[K     |██████▊                         | 225kB 11.2MB/s eta 0:00:01\r\u001b[K     |███████                         | 235kB 11.2MB/s eta 0:00:01\r\u001b[K     |███████▎                        | 245kB 11.2MB/s eta 0:00:01\r\u001b[K     |███████▋                        | 256kB 11.2MB/s eta 0:00:01\r\u001b[K     |████████                        | 266kB 11.2MB/s eta 0:00:01\r\u001b[K     |████████▎                       | 276kB 11.2MB/s eta 0:00:01\r\u001b[K     |████████▌                       | 286kB 11.2MB/s eta 0:00:01\r\u001b[K     |████████▉                       | 296kB 11.2MB/s eta 0:00:01\r\u001b[K     |█████████▏                      | 307kB 11.2MB/s eta 0:00:01\r\u001b[K     |█████████▌                      | 317kB 11.2MB/s eta 0:00:01\r\u001b[K     |█████████▊                      | 327kB 11.2MB/s eta 0:00:01\r\u001b[K     |██████████                      | 337kB 11.2MB/s eta 0:00:01\r\u001b[K     |██████████▍                     | 348kB 11.2MB/s eta 0:00:01\r\u001b[K     |██████████▊                     | 358kB 11.2MB/s eta 0:00:01\r\u001b[K     |███████████                     | 368kB 11.2MB/s eta 0:00:01\r\u001b[K     |███████████▎                    | 378kB 11.2MB/s eta 0:00:01\r\u001b[K     |███████████▋                    | 389kB 11.2MB/s eta 0:00:01\r\u001b[K     |████████████                    | 399kB 11.2MB/s eta 0:00:01\r\u001b[K     |████████████▏                   | 409kB 11.2MB/s eta 0:00:01\r\u001b[K     |████████████▌                   | 419kB 11.2MB/s eta 0:00:01\r\u001b[K     |████████████▉                   | 430kB 11.2MB/s eta 0:00:01\r\u001b[K     |█████████████▏                  | 440kB 11.2MB/s eta 0:00:01\r\u001b[K     |█████████████▍                  | 450kB 11.2MB/s eta 0:00:01\r\u001b[K     |█████████████▊                  | 460kB 11.2MB/s eta 0:00:01\r\u001b[K     |██████████████                  | 471kB 11.2MB/s eta 0:00:01\r\u001b[K     |██████████████▍                 | 481kB 11.2MB/s eta 0:00:01\r\u001b[K     |██████████████▋                 | 491kB 11.2MB/s eta 0:00:01\r\u001b[K     |███████████████                 | 501kB 11.2MB/s eta 0:00:01\r\u001b[K     |███████████████▎                | 512kB 11.2MB/s eta 0:00:01\r\u001b[K     |███████████████▋                | 522kB 11.2MB/s eta 0:00:01\r\u001b[K     |███████████████▉                | 532kB 11.2MB/s eta 0:00:01\r\u001b[K     |████████████████▏               | 542kB 11.2MB/s eta 0:00:01\r\u001b[K     |████████████████▌               | 552kB 11.2MB/s eta 0:00:01\r\u001b[K     |████████████████▉               | 563kB 11.2MB/s eta 0:00:01\r\u001b[K     |█████████████████               | 573kB 11.2MB/s eta 0:00:01\r\u001b[K     |█████████████████▍              | 583kB 11.2MB/s eta 0:00:01\r\u001b[K     |█████████████████▊              | 593kB 11.2MB/s eta 0:00:01\r\u001b[K     |██████████████████              | 604kB 11.2MB/s eta 0:00:01\r\u001b[K     |██████████████████▎             | 614kB 11.2MB/s eta 0:00:01\r\u001b[K     |██████████████████▋             | 624kB 11.2MB/s eta 0:00:01\r\u001b[K     |███████████████████             | 634kB 11.2MB/s eta 0:00:01\r\u001b[K     |███████████████████▎            | 645kB 11.2MB/s eta 0:00:01\r\u001b[K     |███████████████████▌            | 655kB 11.2MB/s eta 0:00:01\r\u001b[K     |███████████████████▉            | 665kB 11.2MB/s eta 0:00:01\r\u001b[K     |████████████████████▏           | 675kB 11.2MB/s eta 0:00:01\r\u001b[K     |████████████████████▌           | 686kB 11.2MB/s eta 0:00:01\r\u001b[K     |████████████████████▊           | 696kB 11.2MB/s eta 0:00:01\r\u001b[K     |█████████████████████           | 706kB 11.2MB/s eta 0:00:01\r\u001b[K     |█████████████████████▍          | 716kB 11.2MB/s eta 0:00:01\r\u001b[K     |█████████████████████▋          | 727kB 11.2MB/s eta 0:00:01\r\u001b[K     |██████████████████████          | 737kB 11.2MB/s eta 0:00:01\r\u001b[K     |██████████████████████▎         | 747kB 11.2MB/s eta 0:00:01\r\u001b[K     |██████████████████████▋         | 757kB 11.2MB/s eta 0:00:01\r\u001b[K     |██████████████████████▉         | 768kB 11.2MB/s eta 0:00:01\r\u001b[K     |███████████████████████▏        | 778kB 11.2MB/s eta 0:00:01\r\u001b[K     |███████████████████████▌        | 788kB 11.2MB/s eta 0:00:01\r\u001b[K     |███████████████████████▉        | 798kB 11.2MB/s eta 0:00:01\r\u001b[K     |████████████████████████        | 808kB 11.2MB/s eta 0:00:01\r\u001b[K     |████████████████████████▍       | 819kB 11.2MB/s eta 0:00:01\r\u001b[K     |████████████████████████▊       | 829kB 11.2MB/s eta 0:00:01\r\u001b[K     |█████████████████████████       | 839kB 11.2MB/s eta 0:00:01\r\u001b[K     |█████████████████████████▎      | 849kB 11.2MB/s eta 0:00:01\r\u001b[K     |█████████████████████████▋      | 860kB 11.2MB/s eta 0:00:01\r\u001b[K     |██████████████████████████      | 870kB 11.2MB/s eta 0:00:01\r\u001b[K     |██████████████████████████▎     | 880kB 11.2MB/s eta 0:00:01\r\u001b[K     |██████████████████████████▌     | 890kB 11.2MB/s eta 0:00:01\r\u001b[K     |██████████████████████████▉     | 901kB 11.2MB/s eta 0:00:01\r\u001b[K     |███████████████████████████▏    | 911kB 11.2MB/s eta 0:00:01\r\u001b[K     |███████████████████████████▌    | 921kB 11.2MB/s eta 0:00:01\r\u001b[K     |███████████████████████████▊    | 931kB 11.2MB/s eta 0:00:01\r\u001b[K     |████████████████████████████    | 942kB 11.2MB/s eta 0:00:01\r\u001b[K     |████████████████████████████▍   | 952kB 11.2MB/s eta 0:00:01\r\u001b[K     |████████████████████████████▊   | 962kB 11.2MB/s eta 0:00:01\r\u001b[K     |█████████████████████████████   | 972kB 11.2MB/s eta 0:00:01\r\u001b[K     |█████████████████████████████▎  | 983kB 11.2MB/s eta 0:00:01\r\u001b[K     |█████████████████████████████▋  | 993kB 11.2MB/s eta 0:00:01\r\u001b[K     |██████████████████████████████  | 1.0MB 11.2MB/s eta 0:00:01\r\u001b[K     |██████████████████████████████▏ | 1.0MB 11.2MB/s eta 0:00:01\r\u001b[K     |██████████████████████████████▌ | 1.0MB 11.2MB/s eta 0:00:01\r\u001b[K     |██████████████████████████████▉ | 1.0MB 11.2MB/s eta 0:00:01\r\u001b[K     |███████████████████████████████▏| 1.0MB 11.2MB/s eta 0:00:01\r\u001b[K     |███████████████████████████████▍| 1.1MB 11.2MB/s eta 0:00:01\r\u001b[K     |███████████████████████████████▊| 1.1MB 11.2MB/s eta 0:00:01\r\u001b[K     |████████████████████████████████| 1.1MB 11.2MB/s \n",
            "\u001b[?25hCollecting tokenizers==0.7.0\n",
            "\u001b[?25l  Downloading https://files.pythonhosted.org/packages/14/e5/a26eb4716523808bb0a799fcfdceb6ebf77a18169d9591b2f46a9adb87d9/tokenizers-0.7.0-cp36-cp36m-manylinux1_x86_64.whl (3.8MB)\n",
            "\u001b[K     |████████████████████████████████| 3.8MB 323kB/s \n",
            "\u001b[?25hRequirement already satisfied: requests in /usr/local/lib/python3.6/dist-packages (from transformers) (2.23.0)\n",
            "Requirement already satisfied: dataclasses; python_version < \"3.7\" in /usr/local/lib/python3.6/dist-packages (from transformers) (0.7)\n",
            "Requirement already satisfied: regex!=2019.12.17 in /usr/local/lib/python3.6/dist-packages (from transformers) (2019.12.20)\n",
            "Requirement already satisfied: numpy in /usr/local/lib/python3.6/dist-packages (from transformers) (1.18.4)\n",
            "Collecting sacremoses\n",
            "\u001b[?25l  Downloading https://files.pythonhosted.org/packages/7d/34/09d19aff26edcc8eb2a01bed8e98f13a1537005d31e95233fd48216eed10/sacremoses-0.0.43.tar.gz (883kB)\n",
            "\u001b[K     |████████████████████████████████| 890kB 35.5MB/s \n",
            "\u001b[?25hRequirement already satisfied: urllib3!=1.25.0,!=1.25.1,<1.26,>=1.21.1 in /usr/local/lib/python3.6/dist-packages (from requests->transformers) (1.24.3)\n",
            "Requirement already satisfied: certifi>=2017.4.17 in /usr/local/lib/python3.6/dist-packages (from requests->transformers) (2020.4.5.1)\n",
            "Requirement already satisfied: idna<3,>=2.5 in /usr/local/lib/python3.6/dist-packages (from requests->transformers) (2.9)\n",
            "Requirement already satisfied: chardet<4,>=3.0.2 in /usr/local/lib/python3.6/dist-packages (from requests->transformers) (3.0.4)\n",
            "Requirement already satisfied: six in /usr/local/lib/python3.6/dist-packages (from sacremoses->transformers) (1.12.0)\n",
            "Requirement already satisfied: click in /usr/local/lib/python3.6/dist-packages (from sacremoses->transformers) (7.1.2)\n",
            "Requirement already satisfied: joblib in /usr/local/lib/python3.6/dist-packages (from sacremoses->transformers) (0.15.1)\n",
            "Building wheels for collected packages: sacremoses\n",
            "  Building wheel for sacremoses (setup.py) ... \u001b[?25l\u001b[?25hdone\n",
            "  Created wheel for sacremoses: filename=sacremoses-0.0.43-cp36-none-any.whl size=893260 sha256=afd3bb1d4c6a7a60694c4114ab1b17900484e7f56b30a5e9d92f0dfc0e3b76da\n",
            "  Stored in directory: /root/.cache/pip/wheels/29/3c/fd/7ce5c3f0666dab31a50123635e6fb5e19ceb42ce38d4e58f45\n",
            "Successfully built sacremoses\n",
            "Installing collected packages: sentencepiece, tokenizers, sacremoses, transformers\n",
            "Successfully installed sacremoses-0.0.43 sentencepiece-0.1.91 tokenizers-0.7.0 transformers-2.10.0\n"
          ],
          "name": "stdout"
        }
      ]
    },
    {
      "cell_type": "code",
      "metadata": {
        "id": "mVZ2U27B-pXl",
        "colab": {
          "base_uri": "https://localhost:8080/",
          "height": 404
        },
        "outputId": "8cbde7bf-279b-43b1-919e-0f0996cd92c6"
      },
      "source": [
        "df1=pd.read_csv('https://raw.githubusercontent.com/rachitban/SemEval2020-Task4-Commonsense-Validation-and-Explanation/master/Training%20%20Data/subtaskA_data_all.csv',sep=',')\n",
        "df1"
      ],
      "execution_count": null,
      "outputs": [
        {
          "output_type": "execute_result",
          "data": {
            "text/html": [
              "<div>\n",
              "<style scoped>\n",
              "    .dataframe tbody tr th:only-of-type {\n",
              "        vertical-align: middle;\n",
              "    }\n",
              "\n",
              "    .dataframe tbody tr th {\n",
              "        vertical-align: top;\n",
              "    }\n",
              "\n",
              "    .dataframe thead th {\n",
              "        text-align: right;\n",
              "    }\n",
              "</style>\n",
              "<table border=\"1\" class=\"dataframe\">\n",
              "  <thead>\n",
              "    <tr style=\"text-align: right;\">\n",
              "      <th></th>\n",
              "      <th>id</th>\n",
              "      <th>sent0</th>\n",
              "      <th>sent1</th>\n",
              "    </tr>\n",
              "  </thead>\n",
              "  <tbody>\n",
              "    <tr>\n",
              "      <th>0</th>\n",
              "      <td>0</td>\n",
              "      <td>He poured orange juice on his cereal.</td>\n",
              "      <td>He poured milk on his cereal.</td>\n",
              "    </tr>\n",
              "    <tr>\n",
              "      <th>1</th>\n",
              "      <td>1</td>\n",
              "      <td>He drinks apple.</td>\n",
              "      <td>He drinks milk.</td>\n",
              "    </tr>\n",
              "    <tr>\n",
              "      <th>2</th>\n",
              "      <td>2</td>\n",
              "      <td>Jeff ran a mile today</td>\n",
              "      <td>Jeff ran 100,000 miles today</td>\n",
              "    </tr>\n",
              "    <tr>\n",
              "      <th>3</th>\n",
              "      <td>3</td>\n",
              "      <td>A mosquito stings me</td>\n",
              "      <td>I sting a mosquito</td>\n",
              "    </tr>\n",
              "    <tr>\n",
              "      <th>4</th>\n",
              "      <td>4</td>\n",
              "      <td>A niece is a person.</td>\n",
              "      <td>A giraffe is a person.</td>\n",
              "    </tr>\n",
              "    <tr>\n",
              "      <th>...</th>\n",
              "      <td>...</td>\n",
              "      <td>...</td>\n",
              "      <td>...</td>\n",
              "    </tr>\n",
              "    <tr>\n",
              "      <th>9995</th>\n",
              "      <td>9995</td>\n",
              "      <td>Mark ate a big bitter cherry pie</td>\n",
              "      <td>Mark ate a big sweet cherry pie</td>\n",
              "    </tr>\n",
              "    <tr>\n",
              "      <th>9996</th>\n",
              "      <td>9996</td>\n",
              "      <td>Gloria wears a cat on her head</td>\n",
              "      <td>Gloria wears a hat on her head</td>\n",
              "    </tr>\n",
              "    <tr>\n",
              "      <th>9997</th>\n",
              "      <td>9997</td>\n",
              "      <td>Harry went to the barbershop to have his hair cut</td>\n",
              "      <td>Harry went to the barbershop to have his glass...</td>\n",
              "    </tr>\n",
              "    <tr>\n",
              "      <th>9998</th>\n",
              "      <td>9998</td>\n",
              "      <td>Reilly is sleeping on the couch</td>\n",
              "      <td>Reilly is sleeping on the window</td>\n",
              "    </tr>\n",
              "    <tr>\n",
              "      <th>9999</th>\n",
              "      <td>9999</td>\n",
              "      <td>I have a desk on my lamp</td>\n",
              "      <td>I have a lamp on my desk</td>\n",
              "    </tr>\n",
              "  </tbody>\n",
              "</table>\n",
              "<p>10000 rows × 3 columns</p>\n",
              "</div>"
            ],
            "text/plain": [
              "        id  ...                                              sent1\n",
              "0        0  ...                      He poured milk on his cereal.\n",
              "1        1  ...                                    He drinks milk.\n",
              "2        2  ...                       Jeff ran 100,000 miles today\n",
              "3        3  ...                                 I sting a mosquito\n",
              "4        4  ...                             A giraffe is a person.\n",
              "...    ...  ...                                                ...\n",
              "9995  9995  ...                    Mark ate a big sweet cherry pie\n",
              "9996  9996  ...                     Gloria wears a hat on her head\n",
              "9997  9997  ...  Harry went to the barbershop to have his glass...\n",
              "9998  9998  ...                   Reilly is sleeping on the window\n",
              "9999  9999  ...                           I have a lamp on my desk\n",
              "\n",
              "[10000 rows x 3 columns]"
            ]
          },
          "metadata": {
            "tags": []
          },
          "execution_count": 4
        }
      ]
    },
    {
      "cell_type": "code",
      "metadata": {
        "id": "Wp3t_Lop-tDJ",
        "colab": {
          "base_uri": "https://localhost:8080/",
          "height": 404
        },
        "outputId": "c359b8b8-6f19-499a-c0ec-593b481354d8"
      },
      "source": [
        "df2=pd.read_csv('https://raw.githubusercontent.com/rachitban/SemEval2020-Task4-Commonsense-Validation-and-Explanation/master/Training%20%20Data/subtaskA_answers_all.csv',sep=',',names=['id','ans'])\n",
        "df2"
      ],
      "execution_count": null,
      "outputs": [
        {
          "output_type": "execute_result",
          "data": {
            "text/html": [
              "<div>\n",
              "<style scoped>\n",
              "    .dataframe tbody tr th:only-of-type {\n",
              "        vertical-align: middle;\n",
              "    }\n",
              "\n",
              "    .dataframe tbody tr th {\n",
              "        vertical-align: top;\n",
              "    }\n",
              "\n",
              "    .dataframe thead th {\n",
              "        text-align: right;\n",
              "    }\n",
              "</style>\n",
              "<table border=\"1\" class=\"dataframe\">\n",
              "  <thead>\n",
              "    <tr style=\"text-align: right;\">\n",
              "      <th></th>\n",
              "      <th>id</th>\n",
              "      <th>ans</th>\n",
              "    </tr>\n",
              "  </thead>\n",
              "  <tbody>\n",
              "    <tr>\n",
              "      <th>0</th>\n",
              "      <td>0</td>\n",
              "      <td>0</td>\n",
              "    </tr>\n",
              "    <tr>\n",
              "      <th>1</th>\n",
              "      <td>1</td>\n",
              "      <td>0</td>\n",
              "    </tr>\n",
              "    <tr>\n",
              "      <th>2</th>\n",
              "      <td>2</td>\n",
              "      <td>1</td>\n",
              "    </tr>\n",
              "    <tr>\n",
              "      <th>3</th>\n",
              "      <td>3</td>\n",
              "      <td>1</td>\n",
              "    </tr>\n",
              "    <tr>\n",
              "      <th>4</th>\n",
              "      <td>4</td>\n",
              "      <td>1</td>\n",
              "    </tr>\n",
              "    <tr>\n",
              "      <th>...</th>\n",
              "      <td>...</td>\n",
              "      <td>...</td>\n",
              "    </tr>\n",
              "    <tr>\n",
              "      <th>9995</th>\n",
              "      <td>9995</td>\n",
              "      <td>0</td>\n",
              "    </tr>\n",
              "    <tr>\n",
              "      <th>9996</th>\n",
              "      <td>9996</td>\n",
              "      <td>0</td>\n",
              "    </tr>\n",
              "    <tr>\n",
              "      <th>9997</th>\n",
              "      <td>9997</td>\n",
              "      <td>1</td>\n",
              "    </tr>\n",
              "    <tr>\n",
              "      <th>9998</th>\n",
              "      <td>9998</td>\n",
              "      <td>1</td>\n",
              "    </tr>\n",
              "    <tr>\n",
              "      <th>9999</th>\n",
              "      <td>9999</td>\n",
              "      <td>0</td>\n",
              "    </tr>\n",
              "  </tbody>\n",
              "</table>\n",
              "<p>10000 rows × 2 columns</p>\n",
              "</div>"
            ],
            "text/plain": [
              "        id  ans\n",
              "0        0    0\n",
              "1        1    0\n",
              "2        2    1\n",
              "3        3    1\n",
              "4        4    1\n",
              "...    ...  ...\n",
              "9995  9995    0\n",
              "9996  9996    0\n",
              "9997  9997    1\n",
              "9998  9998    1\n",
              "9999  9999    0\n",
              "\n",
              "[10000 rows x 2 columns]"
            ]
          },
          "metadata": {
            "tags": []
          },
          "execution_count": 5
        }
      ]
    },
    {
      "cell_type": "code",
      "metadata": {
        "id": "E2GUNAa9-0UO"
      },
      "source": [
        "df2=df2['ans']\n",
        "main_df=pd.concat([df1,df2],axis=1)"
      ],
      "execution_count": null,
      "outputs": []
    },
    {
      "cell_type": "code",
      "metadata": {
        "id": "RsiOCBm_-0XA",
        "colab": {
          "base_uri": "https://localhost:8080/",
          "height": 404
        },
        "outputId": "be4e630e-0d02-4ee1-889f-dd7bcc8e5409"
      },
      "source": [
        "main_df"
      ],
      "execution_count": null,
      "outputs": [
        {
          "output_type": "execute_result",
          "data": {
            "text/html": [
              "<div>\n",
              "<style scoped>\n",
              "    .dataframe tbody tr th:only-of-type {\n",
              "        vertical-align: middle;\n",
              "    }\n",
              "\n",
              "    .dataframe tbody tr th {\n",
              "        vertical-align: top;\n",
              "    }\n",
              "\n",
              "    .dataframe thead th {\n",
              "        text-align: right;\n",
              "    }\n",
              "</style>\n",
              "<table border=\"1\" class=\"dataframe\">\n",
              "  <thead>\n",
              "    <tr style=\"text-align: right;\">\n",
              "      <th></th>\n",
              "      <th>id</th>\n",
              "      <th>sent0</th>\n",
              "      <th>sent1</th>\n",
              "      <th>ans</th>\n",
              "    </tr>\n",
              "  </thead>\n",
              "  <tbody>\n",
              "    <tr>\n",
              "      <th>0</th>\n",
              "      <td>0</td>\n",
              "      <td>He poured orange juice on his cereal.</td>\n",
              "      <td>He poured milk on his cereal.</td>\n",
              "      <td>0</td>\n",
              "    </tr>\n",
              "    <tr>\n",
              "      <th>1</th>\n",
              "      <td>1</td>\n",
              "      <td>He drinks apple.</td>\n",
              "      <td>He drinks milk.</td>\n",
              "      <td>0</td>\n",
              "    </tr>\n",
              "    <tr>\n",
              "      <th>2</th>\n",
              "      <td>2</td>\n",
              "      <td>Jeff ran a mile today</td>\n",
              "      <td>Jeff ran 100,000 miles today</td>\n",
              "      <td>1</td>\n",
              "    </tr>\n",
              "    <tr>\n",
              "      <th>3</th>\n",
              "      <td>3</td>\n",
              "      <td>A mosquito stings me</td>\n",
              "      <td>I sting a mosquito</td>\n",
              "      <td>1</td>\n",
              "    </tr>\n",
              "    <tr>\n",
              "      <th>4</th>\n",
              "      <td>4</td>\n",
              "      <td>A niece is a person.</td>\n",
              "      <td>A giraffe is a person.</td>\n",
              "      <td>1</td>\n",
              "    </tr>\n",
              "    <tr>\n",
              "      <th>...</th>\n",
              "      <td>...</td>\n",
              "      <td>...</td>\n",
              "      <td>...</td>\n",
              "      <td>...</td>\n",
              "    </tr>\n",
              "    <tr>\n",
              "      <th>9995</th>\n",
              "      <td>9995</td>\n",
              "      <td>Mark ate a big bitter cherry pie</td>\n",
              "      <td>Mark ate a big sweet cherry pie</td>\n",
              "      <td>0</td>\n",
              "    </tr>\n",
              "    <tr>\n",
              "      <th>9996</th>\n",
              "      <td>9996</td>\n",
              "      <td>Gloria wears a cat on her head</td>\n",
              "      <td>Gloria wears a hat on her head</td>\n",
              "      <td>0</td>\n",
              "    </tr>\n",
              "    <tr>\n",
              "      <th>9997</th>\n",
              "      <td>9997</td>\n",
              "      <td>Harry went to the barbershop to have his hair cut</td>\n",
              "      <td>Harry went to the barbershop to have his glass...</td>\n",
              "      <td>1</td>\n",
              "    </tr>\n",
              "    <tr>\n",
              "      <th>9998</th>\n",
              "      <td>9998</td>\n",
              "      <td>Reilly is sleeping on the couch</td>\n",
              "      <td>Reilly is sleeping on the window</td>\n",
              "      <td>1</td>\n",
              "    </tr>\n",
              "    <tr>\n",
              "      <th>9999</th>\n",
              "      <td>9999</td>\n",
              "      <td>I have a desk on my lamp</td>\n",
              "      <td>I have a lamp on my desk</td>\n",
              "      <td>0</td>\n",
              "    </tr>\n",
              "  </tbody>\n",
              "</table>\n",
              "<p>10000 rows × 4 columns</p>\n",
              "</div>"
            ],
            "text/plain": [
              "        id  ... ans\n",
              "0        0  ...   0\n",
              "1        1  ...   0\n",
              "2        2  ...   1\n",
              "3        3  ...   1\n",
              "4        4  ...   1\n",
              "...    ...  ...  ..\n",
              "9995  9995  ...   0\n",
              "9996  9996  ...   0\n",
              "9997  9997  ...   1\n",
              "9998  9998  ...   1\n",
              "9999  9999  ...   0\n",
              "\n",
              "[10000 rows x 4 columns]"
            ]
          },
          "metadata": {
            "tags": []
          },
          "execution_count": 7
        }
      ]
    },
    {
      "cell_type": "code",
      "metadata": {
        "id": "rFmUKbbvWnpq",
        "colab": {
          "base_uri": "https://localhost:8080/",
          "height": 33
        },
        "outputId": "b934a261-af6f-4d96-c61c-4538e81e7b98"
      },
      "source": [
        "if torch.cuda.is_available():\n",
        "    device = torch.device(\"cuda:0\") \n",
        "    print(\"Running on the GPU\")\n",
        "else:\n",
        "    device = torch.device(\"cpu\")\n",
        "    print(\"Running on the CPU\")"
      ],
      "execution_count": null,
      "outputs": [
        {
          "output_type": "stream",
          "text": [
            "Running on the CPU\n"
          ],
          "name": "stdout"
        }
      ]
    },
    {
      "cell_type": "code",
      "metadata": {
        "id": "iqQjU0D7-UzZ"
      },
      "source": [
        "class MyClass(nn.Module):\n",
        "  def __init__(self):\n",
        "    super(MyClass,self).__init__()\n",
        "\n",
        "    self.fc1=nn.Linear(1024,20)\n",
        "    self.fc2=nn.Linear(20,1)\n",
        "    self.Relu=F.relu\n",
        "\n",
        "  def forward(self,sentence1,sentence2):\n",
        "    \n",
        "    output1=self.fc1(sentence1)\n",
        "    output1=self.Relu(output1)\n",
        "    output1=self.fc2(output1)\n",
        "    \n",
        "    output2=self.fc1(sentence2)\n",
        "    output2=self.Relu(output2)\n",
        "    output2=self.fc2(output2)\n",
        "\n",
        "    a1=torch.exp(output1)/(torch.exp(output1) + torch.exp(output2))\n",
        "    a2=torch.exp(output2)/(torch.exp(output1) + torch.exp(output2))\n",
        "    \n",
        "    #print(a1,a2)\n",
        "\n",
        "    return a1,a2\n",
        "\n"
      ],
      "execution_count": null,
      "outputs": []
    },
    {
      "cell_type": "code",
      "metadata": {
        "id": "58Lr6ZUfjTXR"
      },
      "source": [
        "model=MyClass()\n",
        "# model.load_state_dict(torch.load('taskA_2.pt')) # comment this in case model is not saved 1st time\n",
        "model.to(device)\n",
        "\n",
        "loss_fct=nn.MarginRankingLoss(margin=0.4)\n",
        "optimizer=optim.Adam(model.parameters())"
      ],
      "execution_count": null,
      "outputs": []
    },
    {
      "cell_type": "code",
      "metadata": {
        "id": "DCL35lYw_mrS"
      },
      "source": [
        "train_df=main_df[0:1000]\n",
        "train_df\n",
        "\n",
        "test_df=main_df[9000:10000]"
      ],
      "execution_count": null,
      "outputs": []
    },
    {
      "cell_type": "code",
      "metadata": {
        "id": "2WMfUc8P-YBE"
      },
      "source": [
        "tokenizer=BertTokenizer.from_pretrained('bert-large-uncased')\n",
        "bertmodel=BertModel.from_pretrained('bert-large-uncased')\n",
        "bertmodel.to(device)\n",
        "bertmodel.eval()\n",
        "model.train()\n",
        "\n",
        "a=[]\n",
        "b=[]\n",
        "\n",
        "for epoch in range (1):\n",
        "  j=0\n",
        "  l1=0\n",
        "  correct=0\n",
        "  for i in train_df.values:\n",
        "\n",
        "    tokenize_input=tokenizer.tokenize(i[1].lower())\n",
        "    sentence1=torch.tensor([tokenizer.encode(tokenize_input,add_special_tokens=True)])\n",
        "    sentence1=bertmodel(sentence1.to(device))\n",
        "    \n",
        "    tokenize_input=tokenizer.tokenize(i[2].lower())\n",
        "    sentence2=torch.tensor([tokenizer.encode(tokenize_input,add_special_tokens=True)])\n",
        "    sentence2=bertmodel(sentence2.to(device))\n",
        "  \n",
        "    if(i[3]==0):\n",
        "      y=torch.FloatTensor([-1.0]).to(device)\n",
        "    else:\n",
        "      y=torch.FloatTensor([1.0]).to(device)\n",
        "\n",
        "    y1,y2=model(sentence1[0][0][0],sentence2[0][0][0])\n",
        "  \n",
        "    loss=loss_fct(y1,y2,y)\n",
        "    # print(j,loss.data)\n",
        "    optimizer.zero_grad()\n",
        "    loss.backward()\n",
        "    optimizer.step()\n",
        "\n",
        "    l1+=loss\n",
        "    j+=1\n",
        "    print(epoch,j)\n",
        "\n",
        "    if(y1>=y2 and i[3]==1):\n",
        "      correct+=1\n",
        "    elif(y1<y2 and i[3]==0):\n",
        "      correct+=1\n",
        "\n",
        "  print(correct)\n",
        "  a.append(l1/j)\n",
        "  b.append(epoch+1)\n",
        "  \n",
        "  plt.plot(b,a,'g')\n",
        "  plt.show()\n",
        "\n",
        "# plt.show()\n",
        "    "
      ],
      "execution_count": null,
      "outputs": []
    },
    {
      "cell_type": "code",
      "metadata": {
        "id": "34TKNiv6jdRE"
      },
      "source": [
        "torch.save(model.state_dict(),'taskA_2.pt')"
      ],
      "execution_count": null,
      "outputs": []
    },
    {
      "cell_type": "code",
      "metadata": {
        "id": "xxeHID_0-Qfj"
      },
      "source": [
        "model.eval()\n",
        "correct=0\n",
        "\n",
        "for i in test_df.values:\n",
        "\n",
        "    tokenize_input=tokenizer.tokenize(i[1].lower())\n",
        "    sentence1=torch.tensor([tokenizer.encode(tokenize_input,add_special_tokens=True)])\n",
        "    sentence1=bertmodel(sentence1.to(device))\n",
        "    \n",
        "    tokenize_input=tokenizer.tokenize(i[2].lower())\n",
        "    sentence2=torch.tensor([tokenizer.encode(tokenize_input,add_special_tokens=True)])\n",
        "    sentence2=bertmodel(sentence2.to(device))\n",
        "\n",
        "    y1,y2=model(sentence1[0][0][0].to(device),sentence2[0][0][0].to(device))\n",
        "\n",
        "    if(y1>y2 and i[3]==1):\n",
        "      correct+=1\n",
        "    elif(y1<y2 and i[3]==0):\n",
        "      correct+=1\n",
        "    # print(y1,y2)\n",
        "\n",
        "print(correct)"
      ],
      "execution_count": null,
      "outputs": []
    },
    {
      "cell_type": "code",
      "metadata": {
        "id": "mj-Sxj2-K9fs"
      },
      "source": [
        "test_df"
      ],
      "execution_count": null,
      "outputs": []
    },
    {
      "cell_type": "code",
      "metadata": {
        "id": "JbYQTSZ6goV3"
      },
      "source": [
        "# 1424 , 1439 , 1426 , 1424 , 1415 for 768 x 20\n",
        "# 1492 , 1423 "
      ],
      "execution_count": null,
      "outputs": []
    }
  ]
}