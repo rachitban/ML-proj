{
 "cells": [
  {
   "cell_type": "code",
   "execution_count": 1,
   "metadata": {},
   "outputs": [],
   "source": [
    "#Importing necessary libraries\n",
    "\n",
    "import numpy as np\n",
    "import seaborn as sns\n",
    "import pandas as pd\n",
    "import sklearn \n",
    "import matplotlib.pyplot as plt\n",
    "%matplotlib inline\n",
    "import warnings\n",
    "warnings.filterwarnings(\"ignore\")"
   ]
  },
  {
   "cell_type": "code",
   "execution_count": 2,
   "metadata": {},
   "outputs": [],
   "source": [
    "#Reading Data\n",
    "\n",
    "Patient_data = pd.read_csv('Pima_Indian_diabetes.csv')"
   ]
  },
  {
   "cell_type": "markdown",
   "metadata": {},
   "source": [
    "# 1. Exploratory Data Analysis\n"
   ]
  },
  {
   "cell_type": "markdown",
   "metadata": {},
   "source": [
    "### 1.1 Statistics of available data"
   ]
  },
  {
   "cell_type": "code",
   "execution_count": 3,
   "metadata": {},
   "outputs": [
    {
     "data": {
      "text/html": [
       "<div>\n",
       "<style scoped>\n",
       "    .dataframe tbody tr th:only-of-type {\n",
       "        vertical-align: middle;\n",
       "    }\n",
       "\n",
       "    .dataframe tbody tr th {\n",
       "        vertical-align: top;\n",
       "    }\n",
       "\n",
       "    .dataframe thead th {\n",
       "        text-align: right;\n",
       "    }\n",
       "</style>\n",
       "<table border=\"1\" class=\"dataframe\">\n",
       "  <thead>\n",
       "    <tr style=\"text-align: right;\">\n",
       "      <th></th>\n",
       "      <th>Pregnancies</th>\n",
       "      <th>Glucose</th>\n",
       "      <th>BloodPressure</th>\n",
       "      <th>SkinThickness</th>\n",
       "      <th>Insulin</th>\n",
       "      <th>BMI</th>\n",
       "      <th>DiabetesPedigreeFunction</th>\n",
       "      <th>Age</th>\n",
       "      <th>Outcome</th>\n",
       "    </tr>\n",
       "  </thead>\n",
       "  <tbody>\n",
       "    <tr>\n",
       "      <th>count</th>\n",
       "      <td>742.000000</td>\n",
       "      <td>752.000000</td>\n",
       "      <td>768.000000</td>\n",
       "      <td>746.000000</td>\n",
       "      <td>768.000000</td>\n",
       "      <td>757.000000</td>\n",
       "      <td>768.000000</td>\n",
       "      <td>749.000000</td>\n",
       "      <td>768.000000</td>\n",
       "    </tr>\n",
       "    <tr>\n",
       "      <th>mean</th>\n",
       "      <td>3.866601</td>\n",
       "      <td>119.966097</td>\n",
       "      <td>68.886078</td>\n",
       "      <td>20.309879</td>\n",
       "      <td>79.799479</td>\n",
       "      <td>31.711151</td>\n",
       "      <td>0.471876</td>\n",
       "      <td>33.761336</td>\n",
       "      <td>0.348958</td>\n",
       "    </tr>\n",
       "    <tr>\n",
       "      <th>std</th>\n",
       "      <td>3.479971</td>\n",
       "      <td>32.367659</td>\n",
       "      <td>19.427448</td>\n",
       "      <td>15.974523</td>\n",
       "      <td>115.244002</td>\n",
       "      <td>8.544789</td>\n",
       "      <td>0.331329</td>\n",
       "      <td>12.297409</td>\n",
       "      <td>0.476951</td>\n",
       "    </tr>\n",
       "    <tr>\n",
       "      <th>min</th>\n",
       "      <td>-5.412815</td>\n",
       "      <td>0.000000</td>\n",
       "      <td>-3.496455</td>\n",
       "      <td>-11.945520</td>\n",
       "      <td>0.000000</td>\n",
       "      <td>-16.288921</td>\n",
       "      <td>0.078000</td>\n",
       "      <td>21.000000</td>\n",
       "      <td>0.000000</td>\n",
       "    </tr>\n",
       "    <tr>\n",
       "      <th>25%</th>\n",
       "      <td>1.000000</td>\n",
       "      <td>99.000000</td>\n",
       "      <td>62.000000</td>\n",
       "      <td>0.000000</td>\n",
       "      <td>0.000000</td>\n",
       "      <td>27.100000</td>\n",
       "      <td>0.243750</td>\n",
       "      <td>24.000000</td>\n",
       "      <td>0.000000</td>\n",
       "    </tr>\n",
       "    <tr>\n",
       "      <th>50%</th>\n",
       "      <td>3.000000</td>\n",
       "      <td>116.000000</td>\n",
       "      <td>72.000000</td>\n",
       "      <td>23.000000</td>\n",
       "      <td>30.500000</td>\n",
       "      <td>32.000000</td>\n",
       "      <td>0.372500</td>\n",
       "      <td>29.000000</td>\n",
       "      <td>0.000000</td>\n",
       "    </tr>\n",
       "    <tr>\n",
       "      <th>75%</th>\n",
       "      <td>6.000000</td>\n",
       "      <td>140.000000</td>\n",
       "      <td>80.000000</td>\n",
       "      <td>32.000000</td>\n",
       "      <td>127.250000</td>\n",
       "      <td>36.500000</td>\n",
       "      <td>0.626250</td>\n",
       "      <td>41.000000</td>\n",
       "      <td>1.000000</td>\n",
       "    </tr>\n",
       "    <tr>\n",
       "      <th>max</th>\n",
       "      <td>17.000000</td>\n",
       "      <td>199.000000</td>\n",
       "      <td>122.000000</td>\n",
       "      <td>99.000000</td>\n",
       "      <td>846.000000</td>\n",
       "      <td>67.100000</td>\n",
       "      <td>2.420000</td>\n",
       "      <td>81.000000</td>\n",
       "      <td>1.000000</td>\n",
       "    </tr>\n",
       "  </tbody>\n",
       "</table>\n",
       "</div>"
      ],
      "text/plain": [
       "       Pregnancies     Glucose  BloodPressure  SkinThickness     Insulin  \\\n",
       "count   742.000000  752.000000     768.000000     746.000000  768.000000   \n",
       "mean      3.866601  119.966097      68.886078      20.309879   79.799479   \n",
       "std       3.479971   32.367659      19.427448      15.974523  115.244002   \n",
       "min      -5.412815    0.000000      -3.496455     -11.945520    0.000000   \n",
       "25%       1.000000   99.000000      62.000000       0.000000    0.000000   \n",
       "50%       3.000000  116.000000      72.000000      23.000000   30.500000   \n",
       "75%       6.000000  140.000000      80.000000      32.000000  127.250000   \n",
       "max      17.000000  199.000000     122.000000      99.000000  846.000000   \n",
       "\n",
       "              BMI  DiabetesPedigreeFunction         Age     Outcome  \n",
       "count  757.000000                768.000000  749.000000  768.000000  \n",
       "mean    31.711151                  0.471876   33.761336    0.348958  \n",
       "std      8.544789                  0.331329   12.297409    0.476951  \n",
       "min    -16.288921                  0.078000   21.000000    0.000000  \n",
       "25%     27.100000                  0.243750   24.000000    0.000000  \n",
       "50%     32.000000                  0.372500   29.000000    0.000000  \n",
       "75%     36.500000                  0.626250   41.000000    1.000000  \n",
       "max     67.100000                  2.420000   81.000000    1.000000  "
      ]
     },
     "execution_count": 3,
     "metadata": {},
     "output_type": "execute_result"
    }
   ],
   "source": [
    "Patient_data.describe()"
   ]
  },
  {
   "cell_type": "markdown",
   "metadata": {},
   "source": [
    "### 1.2 First 10 rows data of the data set"
   ]
  },
  {
   "cell_type": "code",
   "execution_count": 4,
   "metadata": {
    "scrolled": true
   },
   "outputs": [
    {
     "data": {
      "text/html": [
       "<div>\n",
       "<style scoped>\n",
       "    .dataframe tbody tr th:only-of-type {\n",
       "        vertical-align: middle;\n",
       "    }\n",
       "\n",
       "    .dataframe tbody tr th {\n",
       "        vertical-align: top;\n",
       "    }\n",
       "\n",
       "    .dataframe thead th {\n",
       "        text-align: right;\n",
       "    }\n",
       "</style>\n",
       "<table border=\"1\" class=\"dataframe\">\n",
       "  <thead>\n",
       "    <tr style=\"text-align: right;\">\n",
       "      <th></th>\n",
       "      <th>Pregnancies</th>\n",
       "      <th>Glucose</th>\n",
       "      <th>BloodPressure</th>\n",
       "      <th>SkinThickness</th>\n",
       "      <th>Insulin</th>\n",
       "      <th>BMI</th>\n",
       "      <th>DiabetesPedigreeFunction</th>\n",
       "      <th>Age</th>\n",
       "      <th>Outcome</th>\n",
       "    </tr>\n",
       "  </thead>\n",
       "  <tbody>\n",
       "    <tr>\n",
       "      <th>0</th>\n",
       "      <td>6.0</td>\n",
       "      <td>148.0</td>\n",
       "      <td>72.000000</td>\n",
       "      <td>35.0</td>\n",
       "      <td>0.0</td>\n",
       "      <td>33.600000</td>\n",
       "      <td>0.627</td>\n",
       "      <td>50.000000</td>\n",
       "      <td>1</td>\n",
       "    </tr>\n",
       "    <tr>\n",
       "      <th>1</th>\n",
       "      <td>1.0</td>\n",
       "      <td>85.0</td>\n",
       "      <td>66.000000</td>\n",
       "      <td>29.0</td>\n",
       "      <td>0.0</td>\n",
       "      <td>26.600000</td>\n",
       "      <td>0.351</td>\n",
       "      <td>31.000000</td>\n",
       "      <td>0</td>\n",
       "    </tr>\n",
       "    <tr>\n",
       "      <th>2</th>\n",
       "      <td>8.0</td>\n",
       "      <td>183.0</td>\n",
       "      <td>64.000000</td>\n",
       "      <td>0.0</td>\n",
       "      <td>0.0</td>\n",
       "      <td>23.300000</td>\n",
       "      <td>0.672</td>\n",
       "      <td>32.000000</td>\n",
       "      <td>1</td>\n",
       "    </tr>\n",
       "    <tr>\n",
       "      <th>3</th>\n",
       "      <td>1.0</td>\n",
       "      <td>89.0</td>\n",
       "      <td>66.000000</td>\n",
       "      <td>23.0</td>\n",
       "      <td>94.0</td>\n",
       "      <td>19.179925</td>\n",
       "      <td>0.167</td>\n",
       "      <td>21.000000</td>\n",
       "      <td>0</td>\n",
       "    </tr>\n",
       "    <tr>\n",
       "      <th>4</th>\n",
       "      <td>0.0</td>\n",
       "      <td>137.0</td>\n",
       "      <td>40.000000</td>\n",
       "      <td>35.0</td>\n",
       "      <td>168.0</td>\n",
       "      <td>43.100000</td>\n",
       "      <td>2.288</td>\n",
       "      <td>33.000000</td>\n",
       "      <td>1</td>\n",
       "    </tr>\n",
       "    <tr>\n",
       "      <th>5</th>\n",
       "      <td>5.0</td>\n",
       "      <td>116.0</td>\n",
       "      <td>74.000000</td>\n",
       "      <td>0.0</td>\n",
       "      <td>0.0</td>\n",
       "      <td>25.600000</td>\n",
       "      <td>0.201</td>\n",
       "      <td>30.000000</td>\n",
       "      <td>0</td>\n",
       "    </tr>\n",
       "    <tr>\n",
       "      <th>6</th>\n",
       "      <td>3.0</td>\n",
       "      <td>78.0</td>\n",
       "      <td>43.869346</td>\n",
       "      <td>32.0</td>\n",
       "      <td>88.0</td>\n",
       "      <td>31.000000</td>\n",
       "      <td>0.248</td>\n",
       "      <td>26.000000</td>\n",
       "      <td>1</td>\n",
       "    </tr>\n",
       "    <tr>\n",
       "      <th>7</th>\n",
       "      <td>10.0</td>\n",
       "      <td>115.0</td>\n",
       "      <td>0.000000</td>\n",
       "      <td>0.0</td>\n",
       "      <td>0.0</td>\n",
       "      <td>35.300000</td>\n",
       "      <td>0.134</td>\n",
       "      <td>29.000000</td>\n",
       "      <td>0</td>\n",
       "    </tr>\n",
       "    <tr>\n",
       "      <th>8</th>\n",
       "      <td>2.0</td>\n",
       "      <td>197.0</td>\n",
       "      <td>70.000000</td>\n",
       "      <td>45.0</td>\n",
       "      <td>543.0</td>\n",
       "      <td>30.500000</td>\n",
       "      <td>0.158</td>\n",
       "      <td>NaN</td>\n",
       "      <td>1</td>\n",
       "    </tr>\n",
       "    <tr>\n",
       "      <th>9</th>\n",
       "      <td>8.0</td>\n",
       "      <td>125.0</td>\n",
       "      <td>96.000000</td>\n",
       "      <td>NaN</td>\n",
       "      <td>0.0</td>\n",
       "      <td>0.000000</td>\n",
       "      <td>0.232</td>\n",
       "      <td>68.636341</td>\n",
       "      <td>1</td>\n",
       "    </tr>\n",
       "  </tbody>\n",
       "</table>\n",
       "</div>"
      ],
      "text/plain": [
       "   Pregnancies  Glucose  BloodPressure  SkinThickness  Insulin        BMI  \\\n",
       "0          6.0    148.0      72.000000           35.0      0.0  33.600000   \n",
       "1          1.0     85.0      66.000000           29.0      0.0  26.600000   \n",
       "2          8.0    183.0      64.000000            0.0      0.0  23.300000   \n",
       "3          1.0     89.0      66.000000           23.0     94.0  19.179925   \n",
       "4          0.0    137.0      40.000000           35.0    168.0  43.100000   \n",
       "5          5.0    116.0      74.000000            0.0      0.0  25.600000   \n",
       "6          3.0     78.0      43.869346           32.0     88.0  31.000000   \n",
       "7         10.0    115.0       0.000000            0.0      0.0  35.300000   \n",
       "8          2.0    197.0      70.000000           45.0    543.0  30.500000   \n",
       "9          8.0    125.0      96.000000            NaN      0.0   0.000000   \n",
       "\n",
       "   DiabetesPedigreeFunction        Age  Outcome  \n",
       "0                     0.627  50.000000        1  \n",
       "1                     0.351  31.000000        0  \n",
       "2                     0.672  32.000000        1  \n",
       "3                     0.167  21.000000        0  \n",
       "4                     2.288  33.000000        1  \n",
       "5                     0.201  30.000000        0  \n",
       "6                     0.248  26.000000        1  \n",
       "7                     0.134  29.000000        0  \n",
       "8                     0.158        NaN        1  \n",
       "9                     0.232  68.636341        1  "
      ]
     },
     "execution_count": 4,
     "metadata": {},
     "output_type": "execute_result"
    }
   ],
   "source": [
    "Patient_data.head(10)"
   ]
  },
  {
   "cell_type": "markdown",
   "metadata": {},
   "source": [
    "### 1.3 Count of people with and without diabetes "
   ]
  },
  {
   "cell_type": "code",
   "execution_count": 5,
   "metadata": {},
   "outputs": [
    {
     "data": {
      "text/plain": [
       "<matplotlib.axes._subplots.AxesSubplot at 0x7f528f5d0828>"
      ]
     },
     "execution_count": 5,
     "metadata": {},
     "output_type": "execute_result"
    },
    {
     "data": {
      "image/png": "[encoded data removed]",
      "text/plain": [
       "<Figure size 432x288 with 1 Axes>"
      ]
     },
     "metadata": {
      "needs_background": "light"
     },
     "output_type": "display_data"
    }
   ],
   "source": [
    "# Count of people with and without diabetes \n",
    "sns.countplot(x='Outcome',data=Patient_data)"
   ]
  },
  {
   "cell_type": "markdown",
   "metadata": {},
   "source": [
    "### 1.4 Check the amount of null values present in data set which will be useful at the time of data cleaning"
   ]
  },
  {
   "cell_type": "code",
   "execution_count": 6,
   "metadata": {},
   "outputs": [
    {
     "data": {
      "text/plain": [
       "Pregnancies                 26\n",
       "Glucose                     16\n",
       "BloodPressure                0\n",
       "SkinThickness               22\n",
       "Insulin                      0\n",
       "BMI                         11\n",
       "DiabetesPedigreeFunction     0\n",
       "Age                         19\n",
       "Outcome                      0\n",
       "dtype: int64"
      ]
     },
     "execution_count": 6,
     "metadata": {},
     "output_type": "execute_result"
    }
   ],
   "source": [
    "#Calculate the total null entries in each column\n",
    "Patient_data.isnull().sum()"
   ]
  },
  {
   "cell_type": "markdown",
   "metadata": {},
   "source": [
    "### 1.5 Check the amount of zero values present in data set  "
   ]
  },
  {
   "cell_type": "code",
   "execution_count": 7,
   "metadata": {},
   "outputs": [
    {
     "name": "stdout",
     "output_type": "stream",
     "text": [
      "BMI:  10\n",
      "Glucose:  5\n",
      "Insulin:  374\n",
      "SkinThickness:  215\n",
      "BloodPressure:  32\n",
      "Age:  0\n",
      "Diabetes Pedigree Function:  0\n",
      "Pregnancies:  106\n"
     ]
    }
   ],
   "source": [
    "#Finding number of 0 values in each column\n",
    "print(\"BMI: \", Patient_data[Patient_data.BMI==0].shape[0])\n",
    "print(\"Glucose: \",Patient_data[Patient_data.Glucose==0].shape[0])\n",
    "print(\"Insulin: \",Patient_data[Patient_data.Insulin==0].shape[0])\n",
    "print(\"SkinThickness: \",Patient_data[Patient_data.SkinThickness==0].shape[0])\n",
    "print(\"BloodPressure: \",Patient_data[Patient_data.BloodPressure==0].shape[0])\n",
    "print(\"Age: \",Patient_data[Patient_data.Age==0].shape[0])\n",
    "print(\"Diabetes Pedigree Function: \",Patient_data[Patient_data.DiabetesPedigreeFunction==0].shape[0])\n",
    "print(\"Pregnancies: \",Patient_data[Patient_data.Pregnancies==0].shape[0])"
   ]
  },
  {
   "cell_type": "markdown",
   "metadata": {},
   "source": [
    "### 1.6 Ploting distribution graph for each feature present in data set with outcome 0 and 1 which will help to determine whether to use mean or median to replace false values. If the distribution of values are spread equally then mean is preferred else if they are concentrated over a certain range then median is prefered"
   ]
  },
  {
   "cell_type": "markdown",
   "metadata": {},
   "source": [
    "### Glucose"
   ]
  },
  {
   "cell_type": "code",
   "execution_count": 8,
   "metadata": {},
   "outputs": [
    {
     "data": {
      "text/plain": [
       "Text(0, 0.5, 'Outcome=1')"
      ]
     },
     "execution_count": 8,
     "metadata": {},
     "output_type": "execute_result"
    },
    {
     "data": {
      "image/png": "[encoded data removed]",
      "text/plain": [
       "<Figure size 648x648 with 2 Axes>"
      ]
     },
     "metadata": {
      "needs_background": "light"
     },
     "output_type": "display_data"
    }
   ],
   "source": [
    "#ploting distribution of Glucose column with outcome 0(non diabetic) and 1(diabetic) \n",
    "\n",
    "#plot for outcome 0\n",
    "X=Patient_data[Patient_data['Outcome']==0]\n",
    "plt.subplot(2,2,1)\n",
    "X=Patient_data.iloc[:,1]\n",
    "X.hist(figsize=(9,9),color='r')\n",
    "plt.xlabel('Glucose')\n",
    "plt.ylabel('Outcome=0')\n",
    "\n",
    "#plot for outcome 1\n",
    "Y=Patient_data[Patient_data['Outcome']==1]\n",
    "Y=Y.iloc[:,1]\n",
    "plt.subplot(2,2,2)\n",
    "Y.hist(figsize=(9,9),color='g')\n",
    "plt.xlabel('Glucose')\n",
    "plt.ylabel('Outcome=1')"
   ]
  },
  {
   "cell_type": "markdown",
   "metadata": {},
   "source": [
    "### Skin Thickness"
   ]
  },
  {
   "cell_type": "code",
   "execution_count": 9,
   "metadata": {},
   "outputs": [
    {
     "data": {
      "text/plain": [
       "Text(0, 0.5, 'Outcome=1')"
      ]
     },
     "execution_count": 9,
     "metadata": {},
     "output_type": "execute_result"
    },
    {
     "data": {
      "image/png": "[encoded data removed]",
      "text/plain": [
       "<Figure size 648x648 with 2 Axes>"
      ]
     },
     "metadata": {
      "needs_background": "light"
     },
     "output_type": "display_data"
    }
   ],
   "source": [
    "#ploting distribution of SkinThickness column with outcome 0(non diabetic) and 1(diabetic) \n",
    "\n",
    "#plot for outcome 0\n",
    "X=Patient_data[Patient_data['Outcome']==0]\n",
    "plt.subplot(2,2,1)\n",
    "X=Patient_data.iloc[:,3]\n",
    "X.hist(figsize=(9,9),color='r')\n",
    "plt.xlabel('SkinThickness')\n",
    "plt.ylabel('Outcome=0')\n",
    "\n",
    "#plot for outcome 1\n",
    "Y=Patient_data[Patient_data['Outcome']==1]\n",
    "Y=Y.iloc[:,3]\n",
    "plt.subplot(2,2,2)\n",
    "Y.hist(figsize=(9,9),color='g')\n",
    "plt.xlabel('SkinThickness')\n",
    "plt.ylabel('Outcome=1')"
   ]
  },
  {
   "cell_type": "markdown",
   "metadata": {},
   "source": [
    "### Blood Pressure"
   ]
  },
  {
   "cell_type": "code",
   "execution_count": 10,
   "metadata": {},
   "outputs": [
    {
     "data": {
      "text/plain": [
       "Text(0, 0.5, 'Outcome=1')"
      ]
     },
     "execution_count": 10,
     "metadata": {},
     "output_type": "execute_result"
    },
    {
     "data": {
      "image/png": "[encoded data removed]",
      "text/plain": [
       "<Figure size 648x648 with 2 Axes>"
      ]
     },
     "metadata": {
      "needs_background": "light"
     },
     "output_type": "display_data"
    }
   ],
   "source": [
    "#ploting distribution of BloodPressure  column with outcome 0(non diabetic) and 1(diabetic) \n",
    "\n",
    "#plot for outcome 0\n",
    "X=Patient_data[Patient_data['Outcome']==0]\n",
    "plt.subplot(2,2,1)\n",
    "X=Patient_data.iloc[:,2]\n",
    "X.hist(figsize=(9,9),color='r')\n",
    "plt.xlabel('BloodPressure')\n",
    "plt.ylabel('Outcome=0')\n",
    "\n",
    "#plot for outcome 1\n",
    "Y=Patient_data[Patient_data['Outcome']==1]\n",
    "Y=Y.iloc[:,2]\n",
    "plt.subplot(2,2,2)\n",
    "Y.hist(figsize=(9,9),color='g')\n",
    "plt.xlabel('BloodPressure')\n",
    "plt.ylabel('Outcome=1')"
   ]
  },
  {
   "cell_type": "markdown",
   "metadata": {},
   "source": [
    "### Pregnancies"
   ]
  },
  {
   "cell_type": "code",
   "execution_count": 11,
   "metadata": {},
   "outputs": [
    {
     "data": {
      "text/plain": [
       "Text(0, 0.5, 'Outcome=1')"
      ]
     },
     "execution_count": 11,
     "metadata": {},
     "output_type": "execute_result"
    },
    {
     "data": {
      "image/png": "[encoded data removed]",
      "text/plain": [
       "<Figure size 648x648 with 2 Axes>"
      ]
     },
     "metadata": {
      "needs_background": "light"
     },
     "output_type": "display_data"
    }
   ],
   "source": [
    "#ploting distribution of Pregnancies column with outcome 0(non diabetic) and 1(diabetic) \n",
    "\n",
    "#plot for outcome 0\n",
    "X=Patient_data[Patient_data['Outcome']==0]\n",
    "plt.subplot(2,2,1)\n",
    "X=Patient_data.iloc[:,0]\n",
    "X.hist(figsize=(9,9),color='r')\n",
    "plt.xlabel('Pregnancies')\n",
    "plt.ylabel('Outcome=0')\n",
    "\n",
    "#plot for outcome 1\n",
    "Y=Patient_data[Patient_data['Outcome']==1]\n",
    "Y=Y.iloc[:,0]\n",
    "plt.subplot(2,2,2)\n",
    "Y.hist(figsize=(9,9),color='g')\n",
    "plt.xlabel('Pregnancies')\n",
    "plt.ylabel('Outcome=1')"
   ]
  },
  {
   "cell_type": "markdown",
   "metadata": {},
   "source": [
    "### Insulin"
   ]
  },
  {
   "cell_type": "code",
   "execution_count": 12,
   "metadata": {},
   "outputs": [
    {
     "data": {
      "text/plain": [
       "Text(0, 0.5, 'Outcome=1')"
      ]
     },
     "execution_count": 12,
     "metadata": {},
     "output_type": "execute_result"
    },
    {
     "data": {
      "image/png": "[encoded data removed]",
      "text/plain": [
       "<Figure size 648x648 with 2 Axes>"
      ]
     },
     "metadata": {
      "needs_background": "light"
     },
     "output_type": "display_data"
    }
   ],
   "source": [
    "#ploting distribution of Insulin column with outcome 0(non diabetic) and 1(diabetic) \n",
    "\n",
    "#plot for outcome 0\n",
    "X=Patient_data[Patient_data['Outcome']==0]\n",
    "plt.subplot(2,2,1)\n",
    "X=Patient_data.iloc[:,4]\n",
    "X.hist(figsize=(9,9),color='r')\n",
    "plt.xlabel('Insulin')\n",
    "plt.ylabel('Outcome=0')\n",
    "\n",
    "#plot for outcome 1\n",
    "Y=Patient_data[Patient_data['Outcome']==1]\n",
    "Y=Y.iloc[:,4]\n",
    "plt.subplot(2,2,2)\n",
    "Y.hist(figsize=(9,9),color='g')\n",
    "plt.xlabel('Insulin')\n",
    "plt.ylabel('Outcome=1')"
   ]
  },
  {
   "cell_type": "markdown",
   "metadata": {},
   "source": [
    "### BMI"
   ]
  },
  {
   "cell_type": "code",
   "execution_count": 13,
   "metadata": {},
   "outputs": [
    {
     "data": {
      "text/plain": [
       "Text(0, 0.5, 'Outcome=1')"
      ]
     },
     "execution_count": 13,
     "metadata": {},
     "output_type": "execute_result"
    },
    {
     "data": {
      "image/png": "[encoded data removed]",
      "text/plain": [
       "<Figure size 648x648 with 2 Axes>"
      ]
     },
     "metadata": {
      "needs_background": "light"
     },
     "output_type": "display_data"
    }
   ],
   "source": [
    "#ploting distribution of Body mass index(BMI) column with outcome 0(non diabetic) and 1(diabetic) \n",
    "\n",
    "#plot for outcome 0\n",
    "X=Patient_data[Patient_data['Outcome']==0]\n",
    "plt.subplot(2,2,1)\n",
    "X=Patient_data.iloc[:,5]\n",
    "X.hist(figsize=(9,9),color='r')\n",
    "plt.xlabel('BMI')\n",
    "plt.ylabel('Outcome=0')\n",
    "\n",
    "#plot for outcome 1\n",
    "Y=Patient_data[Patient_data['Outcome']==1]\n",
    "Y=Y.iloc[:,5]\n",
    "plt.subplot(2,2,2)\n",
    "Y.hist(figsize=(9,9),color='g')\n",
    "plt.xlabel('BMI')\n",
    "plt.ylabel('Outcome=1')"
   ]
  },
  {
   "cell_type": "markdown",
   "metadata": {},
   "source": [
    "### Age"
   ]
  },
  {
   "cell_type": "code",
   "execution_count": 14,
   "metadata": {},
   "outputs": [
    {
     "data": {
      "text/plain": [
       "Text(0, 0.5, 'Outcome=1')"
      ]
     },
     "execution_count": 14,
     "metadata": {},
     "output_type": "execute_result"
    },
    {
     "data": {
      "image/png": "[encoded data removed]",
      "text/plain": [
       "<Figure size 648x648 with 2 Axes>"
      ]
     },
     "metadata": {
      "needs_background": "light"
     },
     "output_type": "display_data"
    }
   ],
   "source": [
    "#ploting distribution of Age column with outcome 0(non diabetic) and 1(diabetic) \n",
    "\n",
    "#plot for outcome 0\n",
    "X=Patient_data[Patient_data['Outcome']==0]\n",
    "plt.subplot(2,2,1)\n",
    "X=Patient_data.iloc[:,7]\n",
    "X.hist(figsize=(9,9),color='r')\n",
    "plt.xlabel('Age')\n",
    "plt.ylabel('Outcome=0')\n",
    "\n",
    "#plot for outcome 1\n",
    "Y=Patient_data[Patient_data['Outcome']==1]\n",
    "Y=Y.iloc[:,7]\n",
    "plt.subplot(2,2,2)\n",
    "Y.hist(figsize=(9,9),color='g')\n",
    "plt.xlabel('Age')\n",
    "plt.ylabel('Outcome=1')"
   ]
  },
  {
   "cell_type": "markdown",
   "metadata": {},
   "source": [
    "### Diabetes Pedigree Function"
   ]
  },
  {
   "cell_type": "code",
   "execution_count": 15,
   "metadata": {},
   "outputs": [
    {
     "data": {
      "text/plain": [
       "Text(0, 0.5, 'Outcome=1')"
      ]
     },
     "execution_count": 15,
     "metadata": {},
     "output_type": "execute_result"
    },
    {
     "data": {
      "image/png": "[encoded data removed]",
      "text/plain": [
       "<Figure size 648x648 with 2 Axes>"
      ]
     },
     "metadata": {
      "needs_background": "light"
     },
     "output_type": "display_data"
    }
   ],
   "source": [
    "#ploting distribution of DiabetesPedigreeFunction column with outcome 0(non diabetic) and 1(diabetic) \n",
    "\n",
    "#plot for outcome 0\n",
    "X=Patient_data[Patient_data['Outcome']==0]\n",
    "plt.subplot(2,2,1)\n",
    "X=Patient_data.iloc[:,6]\n",
    "X.hist(figsize=(9,9),color='r')\n",
    "plt.xlabel('DiabetesPedigreeFunction')\n",
    "plt.ylabel('Outcome=0')\n",
    "\n",
    "#plot for outcome 1\n",
    "Y=Patient_data[Patient_data['Outcome']==1]\n",
    "Y=Y.iloc[:,6]\n",
    "plt.subplot(2,2,2)\n",
    "Y.hist(figsize=(9,9),color='g')\n",
    "plt.xlabel('DiabetesPedigreeFunction')\n",
    "plt.ylabel('Outcome=1')"
   ]
  },
  {
   "cell_type": "markdown",
   "metadata": {},
   "source": [
    "### 1.7 Observing correlation between the features to get the idea of which feature has dominance over the outcome and which are less likely to affect the outcome"
   ]
  },
  {
   "cell_type": "code",
   "execution_count": 16,
   "metadata": {},
   "outputs": [
    {
     "data": {
      "text/plain": [
       "<matplotlib.axes._subplots.AxesSubplot at 0x7f528c69dc50>"
      ]
     },
     "execution_count": 16,
     "metadata": {},
     "output_type": "execute_result"
    },
    {
     "data": {
      "image/png": "[encoded data removed]",
      "text/plain": [
       "<Figure size 504x504 with 2 Axes>"
      ]
     },
     "metadata": {
      "needs_background": "light"
     },
     "output_type": "display_data"
    }
   ],
   "source": [
    "plt.subplots(figsize=(7,7))\n",
    "\n",
    "sns.heatmap(Patient_data.corr(),annot=True,cmap='RdYlGn')"
   ]
  },
  {
   "cell_type": "markdown",
   "metadata": {},
   "source": [
    "From the correlation plot below are some of observations:\n",
    "1. Glucose has greater impact on outcome than any other feature so it can be considered important feature for prediction outcome\n",
    "2. Other features that has some what impact on outcome are BMI, Age"
   ]
  },
  {
   "cell_type": "markdown",
   "metadata": {},
   "source": [
    "# 2. Data Cleaning"
   ]
  },
  {
   "cell_type": "markdown",
   "metadata": {},
   "source": [
    "From the Exploratory Data Analysis, we note that there are some invalid and missing data values occuring in data set i.e\n",
    "    1. None of Pregnancies can be -ve\n",
    "    2. Blood Pressure cannot be -ve or 0\n",
    "    3. Any person has minimum skin thickness of 0.5mm (using domain knowledge) so it              cannot be 0 or -ve\n",
    "    4. Age cannot be in floating point or 0(assuming age is in years)\n",
    "    5. BMI cannot be 0 or -ve (using domain knowledge)\n",
    "    6. Glucose and Insulin(for outcome 1) cannot be 0 (using domain knowledge)\n",
    "    \n",
    "    \n",
    "   "
   ]
  },
  {
   "cell_type": "markdown",
   "metadata": {},
   "source": [
    "### Pregnancies"
   ]
  },
  {
   "cell_type": "code",
   "execution_count": 17,
   "metadata": {},
   "outputs": [],
   "source": [
    "#If Pregnancies col. has -ve than we replace it with mode as it is will be replaced by most number of pregnancies\n",
    "#If pregnancies is a floating number than make it to integer\n",
    "\n",
    "#function for imputing invalid values with valid ones for pregnancies\n",
    "\n",
    "def impute_values_for_pragn(cols):\n",
    "    a = cols[0]\n",
    "    if a<0 or pd.isnull(a):\n",
    "        return Patient_data['Pregnancies'].mode() \n",
    "    else: \n",
    "        return a.astype(int)\n",
    "\n",
    "#apply impute function\n",
    "Patient_data['Pregnancies'] = Patient_data[['Pregnancies']].apply(impute_values_for_pragn,axis=1)    "
   ]
  },
  {
   "cell_type": "markdown",
   "metadata": {},
   "source": [
    "### Blood Pressure"
   ]
  },
  {
   "cell_type": "code",
   "execution_count": 18,
   "metadata": {},
   "outputs": [],
   "source": [
    "#If BloodPressure col. has value -ve or 0 or nil than make it to 0 or integer\n",
    "#why mean -> because from distribution plot of bloodpressure we conclude that median or mean will\n",
    "#not make difference as the curve is distributed equally \n",
    "\n",
    "#function for imputing invalid values with mean for blood pressure\n",
    "\n",
    "def impute_values_for_bp(cols):\n",
    "    a = cols[0]\n",
    "    if a<=0 or pd.isnull(a):\n",
    "        return Patient_data['BloodPressure'].mean() \n",
    "    else: \n",
    "        return a\n",
    "\n",
    "#apply impute function\n",
    "Patient_data['BloodPressure'] = Patient_data[['BloodPressure']].apply(impute_values_for_bp,axis=1)    "
   ]
  },
  {
   "cell_type": "markdown",
   "metadata": {},
   "source": [
    "### Skin Thickness"
   ]
  },
  {
   "cell_type": "code",
   "execution_count": 19,
   "metadata": {},
   "outputs": [],
   "source": [
    "#If SkinThickness col. has value <0.5mm or nil than replace it with the median of the distribution\n",
    "#why median -> because from distribution plot of SkinThickness, we can see the graph is more skewed towards -\n",
    "#a particular range \n",
    "\n",
    "#function for imputing invalid values with valid ones i.e 0.5mm for skin thickness \n",
    "\n",
    "def impute_values_for_skinth(cols):\n",
    "    a=cols[0]\n",
    "    if(a<0.5 or pd.isnull(a)):\n",
    "        return Patient_data['SkinThickness'].median() \n",
    "    else:\n",
    "        return a\n",
    "    \n",
    "Patient_data['SkinThickness'] = Patient_data[['SkinThickness']].apply(impute_values_for_skinth,axis=1)    "
   ]
  },
  {
   "cell_type": "markdown",
   "metadata": {},
   "source": [
    "### Age"
   ]
  },
  {
   "cell_type": "code",
   "execution_count": 20,
   "metadata": {},
   "outputs": [],
   "source": [
    "#If Age col. has value 0 or nil than replace it with the median of the distribution\n",
    "#why median -> from the distribution plot of ages, frequent occurence of ages between 21-29 is observed\n",
    "#better to replace it with median\n",
    "\n",
    "#function for replacing 0 or nil age with median \n",
    "\n",
    "import random\n",
    "def impute_age(cols):\n",
    "    a=cols[0]\n",
    "    if a==0 or pd.isnull(a):\n",
    "        return Patient_data['Age'].median() \n",
    "    else :\n",
    "        return a.astype(int)\n",
    "    \n",
    "Patient_data['Age'] = Patient_data[['Age']].apply(impute_age,axis=1)    "
   ]
  },
  {
   "cell_type": "markdown",
   "metadata": {},
   "source": [
    "### Insulin Case 1:  Outcome = 1  "
   ]
  },
  {
   "cell_type": "code",
   "execution_count": 21,
   "metadata": {},
   "outputs": [],
   "source": [
    "#If outcome is 1 i.e patient has diabetes than insulin should be less than 16(using domain knowledge)\n",
    "#So replacing null values with median\n",
    "#why median -> for outcome=1 the distribution plot for insulin shows skewness so median would be better\n",
    "\n",
    "X=(Patient_data[Patient_data['Outcome']==1])['Insulin'] #check if outcome=1\n",
    "\n",
    "median_insulin=X.median() #replacing with medain\n",
    "\n",
    "def impute_insulin(cols):\n",
    "    a = cols[0]\n",
    "    b = cols[1]\n",
    "    if pd.isnull(a) and b==1:\n",
    "        return median_insulin\n",
    "    else :\n",
    "        return a\n",
    "Patient_data['Insulin'] = Patient_data[['Insulin','Outcome']].apply(impute_insulin,axis=1)\n"
   ]
  },
  {
   "cell_type": "markdown",
   "metadata": {},
   "source": [
    "### Insulin Case 2:  Outcome = 0"
   ]
  },
  {
   "cell_type": "code",
   "execution_count": 22,
   "metadata": {},
   "outputs": [],
   "source": [
    "#If outcome is 0 i.e patient doesn't have diabetes than insulin should be between 16 and 166(using domain knowledge)\n",
    "#So replacing null or 0 with median\n",
    "#why median -> for outcome=0 the distribution plot for insulin shows skewness so median would be better\n",
    "\n",
    "\n",
    "X=(Patient_data[Patient_data['Outcome']==0])['Insulin']\n",
    "X=X.replace(0,np.nan) # First replacing 0 values by nan so that dropping nan is easy\n",
    "X=X.dropna()\n",
    "median_insulin=X.median() #replacing with medain\n",
    "\n",
    "def impute_insulin(cols):\n",
    "    a = cols[0]\n",
    "    b = cols[1]\n",
    "    if (pd.isnull(a) or a<=0 and b==0) :\n",
    "        return median_insulin\n",
    "    else :\n",
    "        return a\n",
    "Patient_data['Insulin'] = Patient_data[['Insulin','Outcome']].apply(impute_insulin,axis=1)\n"
   ]
  },
  {
   "cell_type": "markdown",
   "metadata": {},
   "source": [
    "### Glucose Case 1: Outcome=1"
   ]
  },
  {
   "cell_type": "code",
   "execution_count": 23,
   "metadata": {},
   "outputs": [],
   "source": [
    "#If outcome is 1 i.e patient has diabetes ,than Glucose should be more than 140\n",
    "#So replacing null or 0 by mean\n",
    "#why mean -> from distribution plot mean will be a better guess as graph is equally distributed\n",
    "\n",
    "\n",
    "X=(Patient_data[Patient_data['Outcome']==1])['Glucose']\n",
    "X=X.replace(0,np.nan)  # First replacing 0 values by nan so that dropping nan is easy\n",
    "X=X.dropna()\n",
    "mean_glucose=X.mean()  #replacing with mean\n",
    "\n",
    "def impute_glucose(cols):\n",
    "    a = cols[0]\n",
    "    b = cols[1]\n",
    "    if ((pd.isnull(a) or a<=0) and b==1) :\n",
    "        return mean_glucose\n",
    "    else :\n",
    "        return a\n",
    "Patient_data['Glucose'] = Patient_data[['Glucose','Outcome']].apply(impute_glucose,axis=1)\n"
   ]
  },
  {
   "cell_type": "markdown",
   "metadata": {},
   "source": [
    "### Glucose Case 2: Outcome=0"
   ]
  },
  {
   "cell_type": "code",
   "execution_count": 24,
   "metadata": {},
   "outputs": [],
   "source": [
    "#If outcome is 0 i.e patient doesn't have diabetes ,than Glucose should less than 140\n",
    "#So replacing null or 0 by mean\n",
    "#why mean -> from distribution plot here also mean will be a better guess as graph is equally distributed\n",
    "\n",
    "X=(Patient_data[Patient_data['Outcome']==0])['Glucose']\n",
    "X=X.replace(0,np.nan) # First replacing 0 values by nan so that dropping nan is easy\n",
    "X=X.dropna()\n",
    "mean_glucose=X.mean()  #replacing with mean\n",
    "\n",
    "def impute_glucose(cols):\n",
    "    a = cols[0]\n",
    "    b = cols[1]\n",
    "    if ((pd.isnull(a) or a<=0) and b==0) :\n",
    "        return mean_glucose\n",
    "    else :\n",
    "        return a\n",
    "Patient_data['Glucose'] = Patient_data[['Glucose','Outcome']].apply(impute_glucose,axis=1)\n"
   ]
  },
  {
   "cell_type": "markdown",
   "metadata": {},
   "source": [
    "### BMI"
   ]
  },
  {
   "cell_type": "code",
   "execution_count": 25,
   "metadata": {},
   "outputs": [],
   "source": [
    "#BMI cannot be -ve or 0 or null so replacing it with median as from the graph of BMI vs outcome it can be \n",
    "#seen that values are more concentrated between 20 to 40\n",
    "\n",
    "def impute_bmi(cols):\n",
    "    a = cols[0]\n",
    "    if pd.isnull(a) or a<=0 : \n",
    "        return Patient_data['BMI'].median() \n",
    "    else:\n",
    "        return a\n",
    "Patient_data['BMI'] = Patient_data[['BMI']].apply(impute_bmi,axis=1)"
   ]
  },
  {
   "cell_type": "code",
   "execution_count": 26,
   "metadata": {},
   "outputs": [
    {
     "data": {
      "text/plain": [
       "Pregnancies                 0\n",
       "Glucose                     0\n",
       "BloodPressure               0\n",
       "SkinThickness               0\n",
       "Insulin                     0\n",
       "BMI                         0\n",
       "DiabetesPedigreeFunction    0\n",
       "Age                         0\n",
       "Outcome                     0\n",
       "dtype: int64"
      ]
     },
     "execution_count": 26,
     "metadata": {},
     "output_type": "execute_result"
    }
   ],
   "source": [
    "#After cleaning no entry should be null \n",
    "\n",
    "Patient_data.isnull().sum()"
   ]
  },
  {
   "cell_type": "code",
   "execution_count": 27,
   "metadata": {},
   "outputs": [
    {
     "data": {
      "text/plain": [
       "<matplotlib.axes._subplots.AxesSubplot at 0x7f528c521208>"
      ]
     },
     "execution_count": 27,
     "metadata": {},
     "output_type": "execute_result"
    },
    {
     "data": {
      "image/png": "[encoded data removed]",
      "text/plain": [
       "<Figure size 504x504 with 2 Axes>"
      ]
     },
     "metadata": {
      "needs_background": "light"
     },
     "output_type": "display_data"
    }
   ],
   "source": [
    "plt.figure(figsize=(7,7))\n",
    "sns.heatmap(Patient_data.corr(),annot=True,cmap='RdYlGn')"
   ]
  },
  {
   "cell_type": "code",
   "execution_count": 28,
   "metadata": {},
   "outputs": [
    {
     "data": {
      "text/plain": [
       "Pregnancies                 0\n",
       "Glucose                     0\n",
       "BloodPressure               0\n",
       "SkinThickness               0\n",
       "Insulin                     0\n",
       "BMI                         0\n",
       "DiabetesPedigreeFunction    0\n",
       "Age                         0\n",
       "Outcome                     0\n",
       "dtype: int64"
      ]
     },
     "execution_count": 28,
     "metadata": {},
     "output_type": "execute_result"
    }
   ],
   "source": [
    "Patient_data.isnull().sum()"
   ]
  },
  {
   "cell_type": "markdown",
   "metadata": {},
   "source": [
    "As inabove plot we can see our data is cleaned and no null values can be found\n",
    "hence we are ready to use data"
   ]
  },
  {
   "cell_type": "markdown",
   "metadata": {},
   "source": [
    "# 3.Train and Testing Data"
   ]
  },
  {
   "cell_type": "code",
   "execution_count": 29,
   "metadata": {},
   "outputs": [],
   "source": [
    "X = Patient_data.drop('Outcome',axis=1)\n",
    "y = Patient_data['Outcome']\n"
   ]
  },
  {
   "cell_type": "code",
   "execution_count": 30,
   "metadata": {},
   "outputs": [],
   "source": [
    "#Splitting data into test(20%) and train(80%)\n",
    "\n",
    "from sklearn.model_selection import train_test_split\n",
    "X_train, X_test, y_train, y_test = train_test_split(X,y,test_size=0.2,random_state=5)"
   ]
  },
  {
   "cell_type": "code",
   "execution_count": 31,
   "metadata": {},
   "outputs": [],
   "source": [
    "#Converting into Standard scale so that each feature has mean=0 and standard deviation=1\n",
    "\n",
    "from sklearn.preprocessing import StandardScaler\n",
    "sc_X = StandardScaler()\n",
    "X_train = sc_X.fit_transform(X_train)\n",
    "X_test = sc_X.transform(X_test)\n"
   ]
  },
  {
   "cell_type": "markdown",
   "metadata": {},
   "source": [
    "### Logistic Regression is used in case of binary classification. Here we need to predict whether a patient has diabetes or not depending on whether outcome is 0 or 1. So this problem is similar to binary classification. "
   ]
  },
  {
   "cell_type": "code",
   "execution_count": 32,
   "metadata": {},
   "outputs": [],
   "source": [
    "from sklearn.linear_model import LogisticRegression\n",
    "logmodel= LogisticRegression();"
   ]
  },
  {
   "cell_type": "code",
   "execution_count": 33,
   "metadata": {},
   "outputs": [
    {
     "data": {
      "text/plain": [
       "LogisticRegression(C=1.0, class_weight=None, dual=False, fit_intercept=True,\n",
       "                   intercept_scaling=1, l1_ratio=None, max_iter=100,\n",
       "                   multi_class='warn', n_jobs=None, penalty='l2',\n",
       "                   random_state=None, solver='warn', tol=0.0001, verbose=0,\n",
       "                   warm_start=False)"
      ]
     },
     "execution_count": 33,
     "metadata": {},
     "output_type": "execute_result"
    }
   ],
   "source": [
    "logmodel.fit(X_train,y_train)"
   ]
  },
  {
   "cell_type": "code",
   "execution_count": 34,
   "metadata": {},
   "outputs": [],
   "source": [
    "y_predictions = logmodel.predict(X_test)"
   ]
  },
  {
   "cell_type": "code",
   "execution_count": 35,
   "metadata": {},
   "outputs": [
    {
     "name": "stdout",
     "output_type": "stream",
     "text": [
      "Accuracy:  85.06493506493507\n"
     ]
    }
   ],
   "source": [
    "#Accuracy of model\n",
    "from sklearn import metrics\n",
    "print(\"Accuracy: \",metrics.accuracy_score(y_predictions,y_test)*100)"
   ]
  },
  {
   "cell_type": "code",
   "execution_count": 36,
   "metadata": {},
   "outputs": [
    {
     "name": "stdout",
     "output_type": "stream",
     "text": [
      "              precision    recall  f1-score   support\n",
      "\n",
      "           0       0.86      0.92      0.89       100\n",
      "           1       0.83      0.72      0.77        54\n",
      "\n",
      "    accuracy                           0.85       154\n",
      "   macro avg       0.84      0.82      0.83       154\n",
      "weighted avg       0.85      0.85      0.85       154\n",
      "\n"
     ]
    }
   ],
   "source": [
    "#classification_report\n",
    "from sklearn.metrics import classification_report\n",
    "print(classification_report(y_test,y_predictions))"
   ]
  },
  {
   "cell_type": "code",
   "execution_count": 37,
   "metadata": {},
   "outputs": [
    {
     "data": {
      "text/plain": [
       "array([[92,  8],\n",
       "       [15, 39]])"
      ]
     },
     "execution_count": 37,
     "metadata": {},
     "output_type": "execute_result"
    }
   ],
   "source": [
    "#Confusion matrix\n",
    "from sklearn.metrics import confusion_matrix \n",
    "results = confusion_matrix(y_test, y_predictions)\n",
    "results"
   ]
  },
  {
   "cell_type": "code",
   "execution_count": null,
   "metadata": {},
   "outputs": [],
   "source": []
  }
 ],
 "metadata": {
  "kernelspec": {
   "display_name": "Python 3",
   "language": "python",
   "name": "python3"
  },
  "language_info": {
   "codemirror_mode": {
    "name": "ipython",
    "version": 3
   },
   "file_extension": ".py",
   "mimetype": "text/x-python",
   "name": "python",
   "nbconvert_exporter": "python",
   "pygments_lexer": "ipython3",
   "version": "3.7.3"
  }
 },
 "nbformat": 4,
 "nbformat_minor": 2
}
